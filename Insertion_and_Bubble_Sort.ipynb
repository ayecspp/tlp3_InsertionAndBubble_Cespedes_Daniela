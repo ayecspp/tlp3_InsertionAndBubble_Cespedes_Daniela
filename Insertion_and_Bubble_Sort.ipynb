{
 "cells": [
  {
   "cell_type": "markdown",
   "metadata": {},
   "source": [
    "# Algoritmos de Ordenamiento: Insertion Sort y Bubble Sort\n",
    "\n",
    "En este notebook, exploraremos el funcionamiento de dos algoritmos de ordenamiento clásicos: **Insertion Sort** y **Bubble Sort**.\n",
    "Describiremos paso a paso cómo funcionan y los implementaremos en Python con ejemplos."
   ]
  },
  {
   "cell_type": "markdown",
   "metadata": {},
   "source": [
    "## 🔹 Insertion Sort (Ordenamiento por Inserción)\n",
    "\n",
    "**¿Cómo funciona?**\n",
    "\n",
    "1. Se comienza desde el segundo elemento (índice 1).\n",
    "2. Se compara ese elemento con los anteriores y se lo inserta en el lugar correspondiente en la parte ya ordenada.\n",
    "3. Se repite el proceso para todos los elementos de la lista.\n",
    "\n",
    "**Ejemplo:**\n",
    "\n",
    "Arreglo inicial: `[5, 3, 8, 4, 2]`\n",
    "- Comparamos 3 con 5 → lo insertamos antes → `[3, 5, 8, 4, 2]`\n",
    "- 8 está en su lugar → `[3, 5, 8, 4, 2]`\n",
    "- 4 va entre 5 y 8 → `[3, 4, 5, 8, 2]`\n",
    "- 2 va al inicio → `[2, 3, 4, 5, 8]`\n",
    "\n",
    "**Complejidad:**\n",
    "- Mejor caso (lista ordenada): O(n)\n",
    "- Peor caso (lista en orden inverso): O(n²)\n",
    "- Espacio adicional: O(1) (in-place)"
   ]
  },
  {
   "cell_type": "code",
   "execution_count": 3,
   "metadata": {},
   "outputs": [
    {
     "name": "stdout",
     "output_type": "stream",
     "text": [
      "Antes: [5, 3, 8, 4, 2]\n",
      "Después: [2, 3, 4, 5, 8]\n"
     ]
    }
   ],
   "source": [
    "def insertion_sort(arr):\n",
    "    for i in range(1, len(arr)):\n",
    "        key = arr[i]\n",
    "        j = i - 1\n",
    "        while j >= 0 and key < arr[j]:\n",
    "            arr[j + 1] = arr[j]\n",
    "            j -= 1\n",
    "        arr[j + 1] = key\n",
    "    return arr\n",
    "\n",
    "lista = [5, 3, 8, 4, 2]\n",
    "print(\"Antes:\", lista)\n",
    "print(\"Después:\", insertion_sort(lista))"
   ]
  },
  {
   "cell_type": "markdown",
   "metadata": {},
   "source": [
    "## 🔹 Bubble Sort (Ordenamiento de Burbuja)\n",
    "\n",
    "**¿Cómo funciona?**\n",
    "\n",
    "1. Se recorren los elementos de la lista varias veces.\n",
    "2. En cada pasada, se comparan pares de elementos adyacentes.\n",
    "3. Si están en el orden incorrecto, se intercambian.\n",
    "4. Con cada pasada, el elemento más grande \"burbujea\" hacia el final.\n",
    "\n",
    "**Ejemplo:**\n",
    "\n",
    "Arreglo inicial: `[5, 3, 8, 4, 2]`\n",
    "- 1ª pasada: `[3, 5, 4, 2, 8]`\n",
    "- 2ª pasada: `[3, 4, 2, 5, 8]`\n",
    "- 3ª pasada: `[3, 2, 4, 5, 8]`\n",
    "- 4ª pasada: `[2, 3, 4, 5, 8]`\n",
    "\n",
    "**Complejidad:**\n",
    "- Mejor caso (lista ordenada): O(n)\n",
    "- Peor caso (orden inverso): O(n²)\n",
    "- Espacio adicional: O(1) (in-place)"
   ]
  },
  {
   "cell_type": "code",
   "execution_count": 4,
   "metadata": {},
   "outputs": [
    {
     "name": "stdout",
     "output_type": "stream",
     "text": [
      "Antes: [5, 3, 8, 4, 2]\n",
      "Después: [2, 3, 4, 5, 8]\n"
     ]
    }
   ],
   "source": [
    "def bubble_sort(arr):\n",
    "    n = len(arr)\n",
    "    for i in range(n):\n",
    "        for j in range(0, n-i-1):\n",
    "            if arr[j] > arr[j+1]:\n",
    "                arr[j], arr[j+1] = arr[j+1], arr[j]\n",
    "    return arr\n",
    "\n",
    "lista = [5, 3, 8, 4, 2]\n",
    "print(\"Antes:\", lista)\n",
    "print(\"Después:\", bubble_sort(lista))"
   ]
  }
 ],
 "metadata": {
  "kernelspec": {
   "display_name": "Python 3",
   "language": "python",
   "name": "python3"
  },
  "language_info": {
   "codemirror_mode": {
    "name": "ipython",
    "version": 3
   },
   "file_extension": ".py",
   "mimetype": "text/x-python",
   "name": "python",
   "nbconvert_exporter": "python",
   "pygments_lexer": "ipython3",
   "version": "3.13.2"
  }
 },
 "nbformat": 4,
 "nbformat_minor": 2
}
